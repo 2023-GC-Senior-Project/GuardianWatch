{
 "cells": [
  {
   "cell_type": "code",
   "execution_count": 10,
   "metadata": {},
   "outputs": [],
   "source": [
    "from functools import partial\n",
    "import numpy as np\n",
    "\n",
    "import cv2\n",
    "import torch\n",
    "\n",
    "import detectron2\n",
    "from detectron2.config import get_cfg\n",
    "from detectron2 import model_zoo\n",
    "from detectron2.engine import DefaultPredictor\n",
    "\n",
    "import pytorchvideo\n",
    "from pytorchvideo.transforms.functional import (\n",
    "    uniform_temporal_subsample,\n",
    "    short_side_scale_with_boxes,\n",
    "    clip_boxes_to_image,\n",
    ")\n",
    "from torchvision.transforms._functional_video import normalize\n",
    "from pytorchvideo.data.ava import AvaLabeledVideoFramePaths\n",
    "from pytorchvideo.models.hub import slow_r50_detection # Another option is slowfast_r50_detection\n",
    "\n",
    "from detectron2.utils.video_visualizer import VideoVisualizer\n"
   ]
  },
  {
   "cell_type": "code",
   "execution_count": 11,
   "metadata": {},
   "outputs": [],
   "source": [
    "device = 'cuda' # or 'cpu'\n",
    "video_model = slow_r50_detection(True) # Another option is slowfast_r50_detection\n",
    "video_model = video_model.eval().to(device)"
   ]
  },
  {
   "cell_type": "code",
   "execution_count": 12,
   "metadata": {},
   "outputs": [],
   "source": [
    "cfg = get_cfg()\n",
    "cfg.merge_from_file(model_zoo.get_config_file(\"COCO-Detection/faster_rcnn_R_50_FPN_3x.yaml\"))\n",
    "cfg.MODEL.ROI_HEADS.SCORE_THRESH_TEST = 0.55  # set threshold for this model\n",
    "cfg.MODEL.WEIGHTS = model_zoo.get_checkpoint_url(\"COCO-Detection/faster_rcnn_R_50_FPN_3x.yaml\")\n",
    "predictor = DefaultPredictor(cfg)\n",
    "\n",
    "# This method takes in an image and generates the bounding boxes for people in the image.\n",
    "def get_person_bboxes(inp_img, predictor):\n",
    "    predictions = predictor(inp_img.cpu().detach().numpy())['instances'].to('cpu')\n",
    "    boxes = predictions.pred_boxes if predictions.has(\"pred_boxes\") else None\n",
    "    scores = predictions.scores if predictions.has(\"scores\") else None\n",
    "    classes = np.array(predictions.pred_classes.tolist() if predictions.has(\"pred_classes\") else None)\n",
    "    predicted_boxes = boxes[np.logical_and(classes==0, scores>0.75 )].tensor.cpu() # only person\n",
    "    return predicted_boxes"
   ]
  },
  {
   "cell_type": "code",
   "execution_count": 13,
   "metadata": {},
   "outputs": [],
   "source": [
    "def ava_inference_transform(\n",
    "    clip,\n",
    "    boxes,\n",
    "    num_frames = 4, #if using slowfast_r50_detection, change this to 32\n",
    "    crop_size = 256,\n",
    "    data_mean = [0.45, 0.45, 0.45],\n",
    "    data_std = [0.225, 0.225, 0.225],\n",
    "    slow_fast_alpha = None, #if using slowfast_r50_detection, change this to 4\n",
    "):\n",
    "\n",
    "    boxes = np.array(boxes)\n",
    "    ori_boxes = boxes.copy()\n",
    "\n",
    "    # Image [0, 255] -> [0, 1].\n",
    "    clip = uniform_temporal_subsample(clip, num_frames)\n",
    "    clip = clip.float()\n",
    "    clip = clip / 255.0\n",
    "\n",
    "    height, width = clip.shape[2], clip.shape[3]\n",
    "    # The format of boxes is [x1, y1, x2, y2]. The input boxes are in the\n",
    "    # range of [0, width] for x and [0,height] for y\n",
    "    boxes = clip_boxes_to_image(boxes, height, width)\n",
    "\n",
    "    # Resize short side to crop_size. Non-local and STRG uses 256.\n",
    "    clip, boxes = short_side_scale_with_boxes(\n",
    "        clip,\n",
    "        size=crop_size,\n",
    "        boxes=boxes,\n",
    "    )\n",
    "\n",
    "    # Normalize images by mean and std.\n",
    "    clip = normalize(\n",
    "        clip,\n",
    "        np.array(data_mean, dtype=np.float32),\n",
    "        np.array(data_std, dtype=np.float32),\n",
    "    )\n",
    "\n",
    "    boxes = clip_boxes_to_image(\n",
    "        boxes, clip.shape[2],  clip.shape[3]\n",
    "    )\n",
    "\n",
    "    # Incase of slowfast, generate both pathways\n",
    "    if slow_fast_alpha is not None:\n",
    "        fast_pathway = clip\n",
    "        # Perform temporal sampling from the fast pathway.\n",
    "        slow_pathway = torch.index_select(\n",
    "            clip,\n",
    "            1,\n",
    "            torch.linspace(\n",
    "                0, clip.shape[1] - 1, clip.shape[1] // slow_fast_alpha\n",
    "            ).long(),\n",
    "        )\n",
    "        clip = [slow_pathway, fast_pathway]\n",
    "\n",
    "    return clip, torch.from_numpy(boxes), ori_boxes"
   ]
  },
  {
   "cell_type": "code",
   "execution_count": 14,
   "metadata": {},
   "outputs": [
    {
     "ename": "TypeError",
     "evalue": "__init__() got an unexpected keyword argument 'top_k'",
     "output_type": "error",
     "traceback": [
      "\u001b[0;31m---------------------------------------------------------------------------\u001b[0m",
      "\u001b[0;31mTypeError\u001b[0m                                 Traceback (most recent call last)",
      "\u001b[1;32m/home2/korengc/code/model_test.ipynb 셀 5\u001b[0m line \u001b[0;36m4\n\u001b[1;32m      <a href='vscode-notebook-cell://ssh-remote%2B7b22686f73744e616d65223a224b4f52454e227d/home2/korengc/code/model_test.ipynb#W4sdnNjb2RlLXJlbW90ZQ%3D%3D?line=1'>2</a>\u001b[0m label_map, allowed_class_ids \u001b[39m=\u001b[39m AvaLabeledVideoFramePaths\u001b[39m.\u001b[39mread_label_map(\u001b[39m'\u001b[39m\u001b[39mava_action_list.pbtxt\u001b[39m\u001b[39m'\u001b[39m)\n\u001b[1;32m      <a href='vscode-notebook-cell://ssh-remote%2B7b22686f73744e616d65223a224b4f52454e227d/home2/korengc/code/model_test.ipynb#W4sdnNjb2RlLXJlbW90ZQ%3D%3D?line=2'>3</a>\u001b[0m \u001b[39m# Create a video visualizer that can plot bounding boxes and visualize actions on bboxes.\u001b[39;00m\n\u001b[0;32m----> <a href='vscode-notebook-cell://ssh-remote%2B7b22686f73744e616d65223a224b4f52454e227d/home2/korengc/code/model_test.ipynb#W4sdnNjb2RlLXJlbW90ZQ%3D%3D?line=3'>4</a>\u001b[0m video_visualizer \u001b[39m=\u001b[39m VideoVisualizer(\u001b[39m81\u001b[39;49m, label_map, top_k\u001b[39m=\u001b[39;49m\u001b[39m3\u001b[39;49m, mode\u001b[39m=\u001b[39;49m\u001b[39m\"\u001b[39;49m\u001b[39mthres\u001b[39;49m\u001b[39m\"\u001b[39;49m,thres\u001b[39m=\u001b[39;49m\u001b[39m0.5\u001b[39;49m)\n",
      "\u001b[0;31mTypeError\u001b[0m: __init__() got an unexpected keyword argument 'top_k'"
     ]
    },
    {
     "ename": "",
     "evalue": "",
     "output_type": "error",
     "traceback": [
      "\u001b[1;31m현재 셀 또는 이전 셀에서 코드를 실행하는 동안 Kernel이 충돌했습니다. 셀의 코드를 검토하여 오류의 가능한 원인을 식별하세요. 자세한 내용을 보려면 <a href='https://aka.ms/vscodeJupyterKernelCrash'> 여기 </a> 를 클릭하세요. 자세한 내용은 Jupyter <a href='command:jupyter.viewOutput'>로그</a>를 참조하세요."
     ]
    }
   ],
   "source": [
    "# Create an id to label name mapping\n",
    "label_map, allowed_class_ids = AvaLabeledVideoFramePaths.read_label_map('ava_action_list.pbtxt')\n",
    "# Create a video visualizer that can plot bounding boxes and visualize actions on bboxes.\n",
    "video_visualizer = VideoVisualizer(81, label_map, top_k=3, mode=\"thres\",thres=0.5)"
   ]
  },
  {
   "cell_type": "code",
   "execution_count": null,
   "metadata": {},
   "outputs": [],
   "source": [
    "encoded_vid = pytorchvideo.data.encoded_video.EncodedVideo.from_path('theatre.webm')\n",
    "print('Completed loading encoded video.')"
   ]
  },
  {
   "cell_type": "code",
   "execution_count": null,
   "metadata": {},
   "outputs": [],
   "source": [
    "# Video predictions are generated at an internal of 1 sec from 90 seconds to 100 seconds in the video.\n",
    "time_stamp_range = range(90,100) # time stamps in video for which clip is sampled.\n",
    "clip_duration = 1.0 # Duration of clip used for each inference step.\n",
    "gif_imgs = []\n",
    "\n",
    "for time_stamp in time_stamp_range:\n",
    "    print(\"Generating predictions for time stamp: {} sec\".format(time_stamp))\n",
    "\n",
    "    # Generate clip around the designated time stamps\n",
    "    inp_imgs = encoded_vid.get_clip(\n",
    "        time_stamp - clip_duration/2.0, # start second\n",
    "        time_stamp + clip_duration/2.0  # end second\n",
    "    )\n",
    "    inp_imgs = inp_imgs['video']\n",
    "\n",
    "    # Generate people bbox predictions using Detectron2's off the self pre-trained predictor\n",
    "    # We use the the middle image in each clip to generate the bounding boxes.\n",
    "    inp_img = inp_imgs[:,inp_imgs.shape[1]//2,:,:]\n",
    "    inp_img = inp_img.permute(1,2,0)\n",
    "\n",
    "    # Predicted boxes are of the form List[(x_1, y_1, x_2, y_2)]\n",
    "    predicted_boxes = get_person_bboxes(inp_img, predictor)\n",
    "    if len(predicted_boxes) == 0:\n",
    "        print(\"Skipping clip no frames detected at time stamp: \", time_stamp)\n",
    "        continue\n",
    "\n",
    "    # Preprocess clip and bounding boxes for video action recognition.\n",
    "    inputs, inp_boxes, _ = ava_inference_transform(inp_imgs, predicted_boxes.numpy())\n",
    "    # Prepend data sample id for each bounding box.\n",
    "    # For more details refere to the RoIAlign in Detectron2\n",
    "    inp_boxes = torch.cat([torch.zeros(inp_boxes.shape[0],1), inp_boxes], dim=1)\n",
    "\n",
    "    # Generate actions predictions for the bounding boxes in the clip.\n",
    "    # The model here takes in the pre-processed video clip and the detected bounding boxes.\n",
    "    preds = video_model(inputs.unsqueeze(0).to(device), inp_boxes.to(device))\n",
    "\n",
    "\n",
    "    preds= preds.to('cpu')\n",
    "    # The model is trained on AVA and AVA labels are 1 indexed so, prepend 0 to convert to 0 index.\n",
    "    preds = torch.cat([torch.zeros(preds.shape[0],1), preds], dim=1)\n",
    "\n",
    "    # Plot predictions on the video and save for later visualization.\n",
    "    inp_imgs = inp_imgs.permute(1,2,3,0)\n",
    "    inp_imgs = inp_imgs/255.0\n",
    "    out_img_pred = video_visualizer.draw_clip_range(inp_imgs, preds, predicted_boxes)\n",
    "    gif_imgs += out_img_pred\n",
    "\n",
    "print(\"Finished generating predictions.\")"
   ]
  },
  {
   "cell_type": "code",
   "execution_count": null,
   "metadata": {},
   "outputs": [],
   "source": [
    "height, width = gif_imgs[0].shape[0], gif_imgs[0].shape[1]\n",
    "\n",
    "vide_save_path = 'output.mp4'\n",
    "video = cv2.VideoWriter(vide_save_path,cv2.VideoWriter_fourcc(*'DIVX'), 7, (width,height))\n",
    "\n",
    "for image in gif_imgs:\n",
    "    img = (255*image).astype(np.uint8)\n",
    "    img = cv2.cvtColor(img, cv2.COLOR_BGR2RGB)\n",
    "    video.write(img)\n",
    "video.release()\n",
    "\n",
    "print('Predictions are saved to the video file: ', vide_save_path)"
   ]
  }
 ],
 "metadata": {
  "kernelspec": {
   "display_name": "koren",
   "language": "python",
   "name": "python3"
  },
  "language_info": {
   "codemirror_mode": {
    "name": "ipython",
    "version": 3
   },
   "file_extension": ".py",
   "mimetype": "text/x-python",
   "name": "python",
   "nbconvert_exporter": "python",
   "pygments_lexer": "ipython3",
   "version": "3.8.18"
  }
 },
 "nbformat": 4,
 "nbformat_minor": 2
}
